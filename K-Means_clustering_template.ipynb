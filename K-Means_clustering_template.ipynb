{
 "cells": [
  {
   "cell_type": "markdown",
   "metadata": {},
   "source": [
    "### K-Means Clustering Template\n",
    "\n",
    "In this template I aim to find the natural groupings of the customers of a mall based on their annual income and spending score.\n",
    "\n",
    "We are using K-means clustering method because we don't have any idea about the segments of customers. \n",
    "\n",
    "Finding the natural grouping pof customers based on their annual income and spending score with choosing mean as a cluster center and find mutually exclusive clusters of spherical shape based on distance."
   ]
  },
  {
   "cell_type": "code",
   "execution_count": null,
   "metadata": {},
   "outputs": [],
   "source": [
    "import numpy as np\n",
    "import matplotlib.pyplot as plt\n",
    "import pandas as pd"
   ]
  },
  {
   "cell_type": "code",
   "execution_count": 2,
   "metadata": {},
   "outputs": [],
   "source": [
    "dataset = pd.read_csv('Mall_Customers.csv') "
   ]
  },
  {
   "cell_type": "code",
   "execution_count": 3,
   "metadata": {},
   "outputs": [
    {
     "data": {
      "text/html": [
       "<div>\n",
       "<style scoped>\n",
       "    .dataframe tbody tr th:only-of-type {\n",
       "        vertical-align: middle;\n",
       "    }\n",
       "\n",
       "    .dataframe tbody tr th {\n",
       "        vertical-align: top;\n",
       "    }\n",
       "\n",
       "    .dataframe thead th {\n",
       "        text-align: right;\n",
       "    }\n",
       "</style>\n",
       "<table border=\"1\" class=\"dataframe\">\n",
       "  <thead>\n",
       "    <tr style=\"text-align: right;\">\n",
       "      <th></th>\n",
       "      <th>CustomerID</th>\n",
       "      <th>Genre</th>\n",
       "      <th>Age</th>\n",
       "      <th>Annual Income (k$)</th>\n",
       "      <th>Spending Score (1-100)</th>\n",
       "    </tr>\n",
       "  </thead>\n",
       "  <tbody>\n",
       "    <tr>\n",
       "      <th>0</th>\n",
       "      <td>1</td>\n",
       "      <td>Male</td>\n",
       "      <td>19</td>\n",
       "      <td>15</td>\n",
       "      <td>39</td>\n",
       "    </tr>\n",
       "    <tr>\n",
       "      <th>1</th>\n",
       "      <td>2</td>\n",
       "      <td>Male</td>\n",
       "      <td>21</td>\n",
       "      <td>15</td>\n",
       "      <td>81</td>\n",
       "    </tr>\n",
       "    <tr>\n",
       "      <th>2</th>\n",
       "      <td>3</td>\n",
       "      <td>Female</td>\n",
       "      <td>20</td>\n",
       "      <td>16</td>\n",
       "      <td>6</td>\n",
       "    </tr>\n",
       "    <tr>\n",
       "      <th>3</th>\n",
       "      <td>4</td>\n",
       "      <td>Female</td>\n",
       "      <td>23</td>\n",
       "      <td>16</td>\n",
       "      <td>77</td>\n",
       "    </tr>\n",
       "    <tr>\n",
       "      <th>4</th>\n",
       "      <td>5</td>\n",
       "      <td>Female</td>\n",
       "      <td>31</td>\n",
       "      <td>17</td>\n",
       "      <td>40</td>\n",
       "    </tr>\n",
       "  </tbody>\n",
       "</table>\n",
       "</div>"
      ],
      "text/plain": [
       "   CustomerID   Genre  Age  Annual Income (k$)  Spending Score (1-100)\n",
       "0           1    Male   19                  15                      39\n",
       "1           2    Male   21                  15                      81\n",
       "2           3  Female   20                  16                       6\n",
       "3           4  Female   23                  16                      77\n",
       "4           5  Female   31                  17                      40"
      ]
     },
     "execution_count": 3,
     "metadata": {},
     "output_type": "execute_result"
    }
   ],
   "source": [
    "dataset.head()"
   ]
  },
  {
   "cell_type": "code",
   "execution_count": 4,
   "metadata": {},
   "outputs": [],
   "source": [
    "X = dataset.iloc[:, [3,4]].values"
   ]
  },
  {
   "cell_type": "markdown",
   "metadata": {},
   "source": [
    "#### Ebow method to determine the number of cluster\n",
    "\n",
    "To start our loop to calculate the withing cluster sum of squares for 10  different number of clusters."
   ]
  },
  {
   "cell_type": "code",
   "execution_count": 5,
   "metadata": {},
   "outputs": [],
   "source": [
    "from sklearn.cluster import KMeans"
   ]
  },
  {
   "cell_type": "code",
   "execution_count": 12,
   "metadata": {},
   "outputs": [
    {
     "data": {
      "text/plain": [
       "<function matplotlib.pyplot.show(*args, **kw)>"
      ]
     },
     "execution_count": 12,
     "metadata": {},
     "output_type": "execute_result"
    },
    {
     "data": {
      "image/png": "[encoded data removed]",
      "text/plain": [
       "<Figure size 432x288 with 1 Axes>"
      ]
     },
     "metadata": {
      "needs_background": "light"
     },
     "output_type": "display_data"
    }
   ],
   "source": [
    "wcss=[] \n",
    "for i in range(1,11): #we choose 11 since the 11 band is excluded.\n",
    "    kmeans= KMeans(n_clusters=i,init='k-means++', max_iter=300,n_init=10, random_state=0)\n",
    "    kmeans.fit(X)\n",
    "    wcss.append(kmeans.inertia_)\n",
    "    \n",
    "plt.plot(range(1,11),wcss)\n",
    "plt.title('the Elbow Methow')\n",
    "plt.xlabel('number of clusters')\n",
    "plt.ylabel('WCSS')\n",
    "plt.show    "
   ]
  },
  {
   "cell_type": "markdown",
   "metadata": {},
   "source": [
    "About **Kmeans**\n",
    "\n",
    "**n_clusters** for the number of clusters\n",
    "\n",
    "**init** for initialization method, to prevent initialization trap it's better to use Kmeans++ initiallization method.\n",
    "\n",
    "**max_iter** is the maximum # iterations there will be to find the final clusters. when the k-means algorithm is running. the defualt value for this parameter is 300 and that's what we are going to choose. \n",
    "\n",
    "**n_init** is the # of times the k-means algorithm will run with different initial centroids. the default is 10 and we will leave it to 10.\n",
    "\n",
    "**kmeans.inertia_** is  the code to calculate the wcss of the kmeans\n",
    "\n",
    "**Note:** to be able to append you need to define wcss as a list by [] not as a tupple ( by ()) \n",
    "\n",
    "We can see from the elbow method the optimum number of clusters which is **5**"
   ]
  },
  {
   "cell_type": "markdown",
   "metadata": {},
   "source": [
    "### applying the K-Means to the dataset \n"
   ]
  },
  {
   "cell_type": "code",
   "execution_count": 13,
   "metadata": {},
   "outputs": [],
   "source": [
    "kmeans=KMeans(n_clusters=5,init='k-means++',max_iter=300, n_init=10, random_state=0)\n",
    "y_kmeans=kmeans.fit_predict(X)"
   ]
  },
  {
   "cell_type": "markdown",
   "metadata": {},
   "source": [
    "**NOTE** : We are not using the fit method but we use the **fit_predict** method that for each observation returns the cluster it belongs to. \n",
    "\n",
    "that means for every single client of our dataset the fit_predict method is going to give us the cluster to which client belongs and it will retun its cluster number into a single vector that we are going to call **ykmeans** \n"
   ]
  },
  {
   "cell_type": "markdown",
   "metadata": {},
   "source": [
    "### Visualizing the clusters"
   ]
  },
  {
   "cell_type": "code",
   "execution_count": 18,
   "metadata": {},
   "outputs": [
    {
     "data": {
      "image/png": "[encoded data removed]",
      "text/plain": [
       "<Figure size 432x288 with 1 Axes>"
      ]
     },
     "metadata": {
      "needs_background": "light"
     },
     "output_type": "display_data"
    }
   ],
   "source": [
    "plt.scatter(X[y_kmeans==0, 0],X[y_kmeans==0, 1], s=100, c='red',label='Cluster 1')\n",
    "plt.scatter(X[y_kmeans==1, 0],X[y_kmeans==1, 1], s=100, c='blue',label='Cluster 2')\n",
    "plt.scatter(X[y_kmeans==2, 0],X[y_kmeans==2, 1], s=100, c='green',label='Cluster 3')\n",
    "plt.scatter(X[y_kmeans==3, 0],X[y_kmeans==3, 1], s=100, c='cyan',label='Cluster 4')\n",
    "plt.scatter(X[y_kmeans==4, 0],X[y_kmeans==4, 1], s=100, c='magenta',label='Cluster 5')\n",
    "plt.scatter(kmeans.cluster_centers_[:,0],kmeans.cluster_centers_[:,1], s=300, c='yellow',label='Centroids') #plot the centroids \n",
    "plt.title('cluster of clients')\n",
    "plt.xlabel('annual income (k$)')\n",
    "plt.ylabel('spending score(1-100)')\n",
    "plt.legend()\n",
    "plt.show()"
   ]
  },
  {
   "cell_type": "markdown",
   "metadata": {},
   "source": [
    "now we need to plot the result. We are gonna plot a scatter plot with centroids and clusters showed on it. \n",
    "\n",
    "we start with plotting all the observations belongigng to cluster one y_kmeans==0 \n",
    "\n",
    "and we specify that we want the first columns of our data X by 0 ( becuase index at python starts at 0 ). And by that we gave the all observations of the x that belongs to cluster one. and we have to do the same for y coordinates. \n",
    "second columns of our data X is gonna be the Y coordinate. \n",
    "\n",
    "s is for size of the data points\n",
    "\n",
    "c is color of the cluster\n",
    "\n",
    "#### plot interpretation\n",
    "\n",
    "We can see that cluster 1 are careful. Don't spend that much even they earn alot.\n",
    "\n",
    "cluster 2 are standard (around the mean) average income average & spending score\n",
    "\n",
    "cluster 3 are target high income and high spending score\n",
    "\n",
    "cluster 4 (low income and spend much) careless\n",
    "\n",
    "cluster 5 sensible clients as opposed to careless clients\n"
   ]
  },
  {
   "cell_type": "code",
   "execution_count": null,
   "metadata": {},
   "outputs": [],
   "source": []
  }
 ],
 "metadata": {
  "kernelspec": {
   "display_name": "Python 3",
   "language": "python",
   "name": "python3"
  },
  "language_info": {
   "codemirror_mode": {
    "name": "ipython",
    "version": 3
   },
   "file_extension": ".py",
   "mimetype": "text/x-python",
   "name": "python",
   "nbconvert_exporter": "python",
   "pygments_lexer": "ipython3",
   "version": "3.7.2"
  },
  "varInspector": {
   "cols": {
    "lenName": 16,
    "lenType": 16,
    "lenVar": 40
   },
   "kernels_config": {
    "python": {
     "delete_cmd_postfix": "",
     "delete_cmd_prefix": "del ",
     "library": "var_list.py",
     "varRefreshCmd": "print(var_dic_list())"
    },
    "r": {
     "delete_cmd_postfix": ") ",
     "delete_cmd_prefix": "rm(",
     "library": "var_list.r",
     "varRefreshCmd": "cat(var_dic_list()) "
    }
   },
   "types_to_exclude": [
    "module",
    "function",
    "builtin_function_or_method",
    "instance",
    "_Feature"
   ],
   "window_display": false
  }
 },
 "nbformat": 4,
 "nbformat_minor": 2
}
